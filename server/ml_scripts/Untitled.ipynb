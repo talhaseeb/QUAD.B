{
 "cells": [
  {
   "cell_type": "code",
   "execution_count": 1,
   "metadata": {},
   "outputs": [],
   "source": [
    "import xgboost"
   ]
  },
  {
   "cell_type": "code",
   "execution_count": 2,
   "metadata": {},
   "outputs": [
    {
     "data": {
      "text/plain": [
       "'2.0.2'"
      ]
     },
     "execution_count": 2,
     "metadata": {},
     "output_type": "execute_result"
    }
   ],
   "source": [
    "xgboost.__version__"
   ]
  },
  {
   "cell_type": "code",
   "execution_count": 3,
   "metadata": {},
   "outputs": [],
   "source": [
    "# importing libraries\n",
    "import sys\n",
    "import pandas as pd\n",
    "import json\n",
    "import xgboost as xgb"
   ]
  },
  {
   "cell_type": "code",
   "execution_count": 5,
   "metadata": {},
   "outputs": [],
   "source": [
    "import numpy as np"
   ]
  },
  {
   "cell_type": "code",
   "execution_count": 6,
   "metadata": {},
   "outputs": [
    {
     "data": {
      "text/plain": [
       "'1.19.2'"
      ]
     },
     "execution_count": 6,
     "metadata": {},
     "output_type": "execute_result"
    }
   ],
   "source": [
    "np.__version__"
   ]
  },
  {
   "cell_type": "code",
   "execution_count": 4,
   "metadata": {},
   "outputs": [
    {
     "data": {
      "text/plain": [
       "'1.1.3'"
      ]
     },
     "execution_count": 4,
     "metadata": {},
     "output_type": "execute_result"
    }
   ],
   "source": [
    "pd.__version__"
   ]
  },
  {
   "cell_type": "code",
   "execution_count": 5,
   "metadata": {},
   "outputs": [],
   "source": [
    "# Load the XGBoost model\n",
    "booster = xgb.Booster()\n",
    "booster.load_model(\"../ml_models/xgboost_model_v1.json\")"
   ]
  },
  {
   "cell_type": "code",
   "execution_count": 7,
   "metadata": {},
   "outputs": [],
   "source": [
    "import json\n",
    "\n",
    "# Load JSON data from file\n",
    "with open('input_json_sample.json', 'r') as file:\n",
    "    input_data = json.load(file)"
   ]
  },
  {
   "cell_type": "code",
   "execution_count": 8,
   "metadata": {},
   "outputs": [
    {
     "data": {
      "text/plain": [
       "{'number_of_guests': 40,\n",
       " 'quantity_of_food': 200,\n",
       " 'type_of_food_baked_goods': 1,\n",
       " 'type_of_food_dairy_products': 0,\n",
       " 'type_of_food_fruits': 0,\n",
       " 'type_of_food_meat': 0,\n",
       " 'type_of_food_vegetables': 0,\n",
       " 'event_type_birthday': 0,\n",
       " 'event_type_corporate': 1,\n",
       " 'event_type_social_gathering': 0,\n",
       " 'event_type_wedding': 0,\n",
       " 'storage_conditions_refrigerated': 0,\n",
       " 'storage_conditions_room_temperature': 1,\n",
       " 'seasonality_all_seasons': 1,\n",
       " 'seasonality_summer': 0,\n",
       " 'seasonality_winter': 0,\n",
       " 'preparation_method_buffet': 1,\n",
       " 'preparation_method_finger_food': 0,\n",
       " 'preparation_method_sit-down_dinner': 0,\n",
       " 'geographical_location_rural': 0,\n",
       " 'geographical_location_suburban': 1,\n",
       " 'geographical_location_urban': 0,\n",
       " 'pricing_high': 0,\n",
       " 'pricing_low': 0,\n",
       " 'pricing_moderate': 1}"
      ]
     },
     "execution_count": 8,
     "metadata": {},
     "output_type": "execute_result"
    }
   ],
   "source": [
    "input_data"
   ]
  },
  {
   "cell_type": "code",
   "execution_count": 9,
   "metadata": {},
   "outputs": [
    {
     "name": "stdout",
     "output_type": "stream",
     "text": [
      "18.018175\n"
     ]
    }
   ],
   "source": [
    "#  column names\n",
    "column_names = list(input_data.keys())\n",
    "\n",
    "# Create a DataFrame with the JSON data and updated column names\n",
    "df = pd.DataFrame([input_data], columns=column_names)\n",
    "\n",
    "# Use the XGBoost model to make predictions\n",
    "predictions = booster.predict(xgb.DMatrix(df))\n",
    "\n",
    "# Print the predictions\n",
    "print(predictions[0])"
   ]
  },
  {
   "cell_type": "code",
   "execution_count": null,
   "metadata": {},
   "outputs": [],
   "source": []
  }
 ],
 "metadata": {
  "kernelspec": {
   "display_name": "Python 3",
   "language": "python",
   "name": "python3"
  },
  "language_info": {
   "codemirror_mode": {
    "name": "ipython",
    "version": 3
   },
   "file_extension": ".py",
   "mimetype": "text/x-python",
   "name": "python",
   "nbconvert_exporter": "python",
   "pygments_lexer": "ipython3",
   "version": "3.8.5"
  }
 },
 "nbformat": 4,
 "nbformat_minor": 4
}
